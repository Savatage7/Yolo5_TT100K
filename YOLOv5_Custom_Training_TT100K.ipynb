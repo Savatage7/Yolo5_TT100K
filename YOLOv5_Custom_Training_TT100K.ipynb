{
  "cells": [
    {
      "cell_type": "markdown",
      "metadata": {
        "id": "view-in-github",
        "colab_type": "text"
      },
      "source": [
        "<a href=\"https://colab.research.google.com/github/Savatage7/Yolo5_TT100K/blob/main/YOLOv5_Custom_Training_TT100K.ipynb\" target=\"_parent\"><img src=\"https://colab.research.google.com/assets/colab-badge.svg\" alt=\"Open In Colab\"/></a>"
      ]
    },
    {
      "cell_type": "markdown",
      "metadata": {
        "id": "yNveqeA1KXGy"
      },
      "source": [
        "# Step 1: Install Requirements"
      ]
    },
    {
      "cell_type": "code",
      "execution_count": null,
      "metadata": {
        "colab": {
          "base_uri": "https://localhost:8080/"
        },
        "id": "kTvDNSILZoN9",
        "outputId": "7fac31d9-1630-4a45-a2c2-7d6a2cb076fe"
      },
      "outputs": [
        {
          "output_type": "stream",
          "name": "stdout",
          "text": [
            "Cloning into 'yolov5'...\n",
            "remote: Enumerating objects: 12262, done.\u001b[K\n",
            "remote: Counting objects: 100% (12/12), done.\u001b[K\n",
            "remote: Compressing objects: 100% (11/11), done.\u001b[K\n",
            "remote: Total 12262 (delta 2), reused 6 (delta 1), pack-reused 12250\u001b[K\n",
            "Receiving objects: 100% (12262/12262), 11.96 MiB | 32.93 MiB/s, done.\n",
            "Resolving deltas: 100% (8488/8488), done.\n",
            "\u001b[K     |████████████████████████████████| 596 kB 5.1 MB/s \n",
            "\u001b[K     |████████████████████████████████| 145 kB 5.1 MB/s \n",
            "\u001b[K     |████████████████████████████████| 178 kB 47.3 MB/s \n",
            "\u001b[K     |████████████████████████████████| 1.1 MB 57.0 MB/s \n",
            "\u001b[K     |████████████████████████████████| 67 kB 7.0 MB/s \n",
            "\u001b[K     |████████████████████████████████| 54 kB 3.2 MB/s \n",
            "\u001b[K     |████████████████████████████████| 138 kB 75.7 MB/s \n",
            "\u001b[K     |████████████████████████████████| 62 kB 1.6 MB/s \n",
            "\u001b[?25h  Building wheel for roboflow (setup.py) ... \u001b[?25l\u001b[?25hdone\n",
            "  Building wheel for wget (setup.py) ... \u001b[?25l\u001b[?25hdone\n",
            "\u001b[31mERROR: pip's dependency resolver does not currently take into account all the packages that are installed. This behaviour is the source of the following dependency conflicts.\n",
            "google-colab 1.0.0 requires requests~=2.23.0, but you have requests 2.28.0 which is incompatible.\n",
            "datascience 0.10.6 requires folium==0.2.1, but you have folium 0.8.3 which is incompatible.\n",
            "albumentations 0.1.12 requires imgaug<0.2.7,>=0.2.5, but you have imgaug 0.2.9 which is incompatible.\u001b[0m\n",
            "Setup complete. Using torch 1.11.0+cu113 (Tesla P100-PCIE-16GB)\n"
          ]
        }
      ],
      "source": [
        "#clone YOLOv5 and \n",
        "!git clone https://github.com/ultralytics/yolov5  # clone repo\n",
        "%pip install -qr yolov5/requirements.txt # install dependencies\n",
        "%pip install -q roboflow\n",
        "\n",
        "import torch\n",
        "import os\n",
        "from IPython.display import Image, clear_output  # to display images\n",
        "\n",
        "print(f\"Setup complete. Using torch {torch.__version__} ({torch.cuda.get_device_properties(0).name if torch.cuda.is_available() else 'CPU'})\")"
      ]
    },
    {
      "cell_type": "code",
      "source": [
        "#data download and structure building\n",
        "!wget http://cg.cs.tsinghua.edu.cn/traffic-sign/data_model_code/data.zip\n",
        "!unzip data.zip\n",
        "\n",
        "!mkdir TT100K\n",
        "!mkdir TT100K/data\n",
        "!mkdir TT100K/data/train\n",
        "!mkdir TT100K/data/test\n",
        "!mkdir TT100K/data/val\n",
        "\n",
        "!mkdir TT100K/data/train/images\n",
        "!mkdir TT100K/data/test/images\n",
        "!mkdir TT100K/data/val/images\n",
        "\n",
        "!mkdir TT100K/data/train/labels\n",
        "!mkdir TT100K/data/test/labels\n",
        "!mkdir TT100K/data/val/labels\n",
        "\n",
        "!mv data/train/* TT100K/data/train/images\n",
        "!mv data/test/* TT100K/data/test/images\n",
        "!mv /content/data/annotations.json TT100K/data\n",
        "\n",
        "#Save in drive if needed\n",
        "# !cp -r \"/content/TT100K\" \"/content/drive/MyDrive/\"\n"
      ],
      "metadata": {
        "id": "qDmNaog11Bfh"
      },
      "execution_count": null,
      "outputs": []
    },
    {
      "cell_type": "code",
      "source": [
        "!cp -r \"/content/TT100K/data/annotations.json\" \"/content/annotations.json\"\n",
        "!cp -r \"/content/TT100K/data/train\" \"/content/yolov5/data/TT100K\"\n",
        "!cp -r \"/content/TT100K/data/test\" \"/content/yolov5/data/TT100K\""
      ],
      "metadata": {
        "id": "DXnB9tvd1aEk"
      },
      "execution_count": null,
      "outputs": []
    },
    {
      "cell_type": "code",
      "execution_count": null,
      "metadata": {
        "colab": {
          "base_uri": "https://localhost:8080/"
        },
        "id": "R2wGvjd4Z_92",
        "outputId": "fc33392c-2d5f-4098-f716-bdab52f00d7e"
      },
      "outputs": [
        {
          "output_type": "stream",
          "name": "stdout",
          "text": [
            "Mounted at /content/drive\n"
          ]
        }
      ],
      "source": [
        "# load if data stored in Drive\n",
        "# from google.colab import drive\n",
        "# drive.mount('/content/drive', force_remount=True)\n",
        "# !mkdir \"/content/yolov5/data/TT100K/\"\n",
        "# !cp -r \"/content/drive/MyDrive/TT100K/data/annotations.json\" \"/content/annotations.json\"\n",
        "# !cp -r \"/content/drive/MyDrive/TT100K/data/train\" \"/content/yolov5/data/TT100K\"\n",
        "# !cp -r \"/content/drive/MyDrive/TT100K/data/test\" \"/content/yolov5/data/TT100K\""
      ]
    },
    {
      "cell_type": "code",
      "execution_count": null,
      "metadata": {
        "id": "y0_2cszNjMFt"
      },
      "outputs": [],
      "source": [
        "dirs=[\"/content/yolov5/data/TT100K/train/labels/\",\"/content/yolov5/data/TT100K/test/labels/\",\"/content/yolov5/data/TT100K/val/labels/\",\"/content/yolov5/data/TT100K/val/images/\"]\n",
        "\n",
        "for dir in dirs:\n",
        "  if not os.path.exists(dir):\n",
        "      os.makedirs(dir)\n",
        "      \n",
        "for folder in dirs:\n",
        "  for filename in os.listdir(folder):\n",
        "      file_path = os.path.join(folder, filename)\n",
        "      try:\n",
        "          if os.path.isfile(file_path) or os.path.islink(file_path):\n",
        "              os.unlink(file_path)\n",
        "          elif os.path.isdir(file_path):\n",
        "              shutil.rmtree(file_path)\n",
        "      except Exception as e:\n",
        "          print('Failed to delete %s. Reason: %s' % (file_path, e))\n",
        "\n"
      ]
    },
    {
      "cell_type": "markdown",
      "metadata": {
        "id": "LwmCeDN7clrA"
      },
      "source": [
        "# Label Generation"
      ]
    },
    {
      "cell_type": "code",
      "execution_count": null,
      "metadata": {
        "colab": {
          "base_uri": "https://localhost:8080/"
        },
        "id": "IupHrJuxckXE",
        "outputId": "1d804544-eff2-499c-abd3-b86bd55d1536"
      },
      "outputs": [
        {
          "output_type": "stream",
          "name": "stdout",
          "text": [
            "{'pn': 1886, 'pne': 1379, 'i5': 1045, 'p11': 969, 'pl40': 874, 'po': 735, 'pl50': 660, 'io': 580, 'pl80': 578, 'pl60': 526, 'p26': 515, 'i4': 476, 'pl100': 449, 'pl30': 373, 'il60': 338, 'i2': 297, 'pl5': 269, 'w57': 263, 'p5': 258, 'p10': 244, 'pl120': 208, 'il80': 197, 'ip': 190, 'p23': 163, 'pr40': 136, 'ph4.5': 122, 'w59': 122, 'p3': 111, 'w55': 109, 'pm20': 107, 'p12': 106, 'pg': 104, 'pl70': 103, 'pm55': 98, 'pl20': 98, 'il100': 92, 'w13': 90, 'p19': 87, 'p27': 84, 'ph4': 83, 'pm30': 75, 'wo': 73, 'ph5': 73, 'w32': 70, 'p6': 69}\n",
            "['pn', 'pne', 'i5', 'p11', 'pl40', 'po', 'pl50', 'io', 'pl80', 'pl60', 'p26', 'i4', 'pl100', 'pl30', 'il60', 'i2', 'pl5', 'w57', 'p5', 'p10', 'pl120', 'il80', 'ip', 'p23', 'pr40', 'ph4.5', 'w59', 'p3', 'w55', 'pm20', 'p12', 'pg', 'pl70', 'pm55', 'pl20', 'il100', 'w13', 'p19', 'p27', 'ph4', 'pm30', 'wo', 'ph5', 'w32', 'p6']\n"
          ]
        },
        {
          "output_type": "stream",
          "name": "stderr",
          "text": [
            "/usr/local/lib/python3.7/dist-packages/ipykernel_launcher.py:21: FutureWarning: Using short name for 'orient' is deprecated. Only the options: ('dict', list, 'series', 'split', 'records', 'index') will be used in a future version. Use one of the above to silence this warning.\n"
          ]
        }
      ],
      "source": [
        "import numpy as np\n",
        "import pandas as pd\n",
        "import json\n",
        "import random\n",
        "import shutil\n",
        "import math\n",
        "\n",
        "filedir = \"/content/annotations.json\"\n",
        "annos = json.loads(open(filedir).read())\n",
        "train_category_List=[]\n",
        "for image in annos['imgs'].values():\n",
        "  if 'train' in image['path']:\n",
        "    for object in image['objects']:\n",
        "      train_category_List.append(object['category'])\n",
        "validation_pct=0.05\n",
        "df = pd.DataFrame(dict(col1=np.array(train_category_List)))\n",
        "c=df['col1'].value_counts()\n",
        "d=pd.DataFrame({'class':c.index, 'count':c.values})\n",
        "# top45Classess=d.head(45)['class'].values.tolist()\n",
        "\n",
        "top45Classess_dict=d.head(45).set_index('class').T.to_dict('int')['count']\n",
        "validationClasses_Dict={}\n",
        "for k,v in top45Classess_dict.items():\n",
        "  validationClasses_Dict[k]={}\n",
        "  validationClasses_Dict[k]['imageIds']=[]\n",
        "\n",
        "top45Classess=list(top45Classess_dict.keys())\n",
        "print(top45Classess_dict)\n",
        "print(top45Classess)"
      ]
    },
    {
      "cell_type": "code",
      "execution_count": null,
      "metadata": {
        "id": "A3d7ga_FckF-"
      },
      "outputs": [],
      "source": [
        "random.seed(33)\n",
        "baseDir=\"/content/yolov5/data/TT100K/\"\n",
        "def prepareObj(object):\n",
        "  x_center=(object['bbox']['xmin']+object['bbox']['xmax'])/2\n",
        "  y_center=(object['bbox']['ymin']+object['bbox']['ymax'])/2\n",
        "  width=object['bbox']['xmax']-object['bbox']['xmin']\n",
        "  height=object['bbox']['ymax']-object['bbox']['ymin']\n",
        "  x_center/=2048\n",
        "  y_center/=2048\n",
        "  width/=2048\n",
        "  height/=2048\n",
        "  # return str(annos['types'].index(object['category']))+\" \"+str(x_center)+\" \"+str(y_center)+\" \"+str(width)+\" \"+str(height)+'\\n'\n",
        "  return str(top45Classess.index(object['category']))+\" \"+str(x_center)+\" \"+str(y_center)+\" \"+str(width)+\" \"+str(height)+'\\n'\n",
        "\n",
        "def addifTrain(cat,filePath):\n",
        "  if \"train/labels/\"in filePath:\n",
        "    if filePath not in validationClasses_Dict[cat][\"imageIds\"]: \n",
        "      validationClasses_Dict[cat][\"imageIds\"].append(filePath) \n",
        "\n",
        "for image in annos['imgs'].values():\n",
        "  f=None\n",
        "  # if 'train' in image['path']:\n",
        "  #   f = open(baseDir+\"train/labels/\"+str(image['id'])+\".txt\", \"w\")\n",
        "  if 'test' in image['path']:\n",
        "    f = open(baseDir+\"test/labels/\"+str(image['id'])+\".txt\", \"w\")\n",
        "  if f:\n",
        "    for object in image['objects']:\n",
        "      if object['category'] in top45Classess:\n",
        "        addifTrain(object['category'],f.name)\n",
        "        f.write(prepareObj(object))\n",
        "    f.close()\n",
        "\n",
        "# for k,v in validationClasses_Dict.items():\n",
        "\n",
        "#   listtoMove=random.sample(validationClasses_Dict[k]['imageIds'], math.floor(validation_pct*len(list(validationClasses_Dict[k]['imageIds']))))\n",
        "#   print(k,len(list(validationClasses_Dict[k]['imageIds'])),listtoMove)\n",
        "#   for f in listtoMove:\n",
        "#     img=f.replace(\"labels\",\"images\").replace(\".txt\",\".jpg\")\n",
        "#     if os.path.exists(f):\n",
        "#       print(f)\n",
        "#       shutil.move(f, f.replace(\"train\",\"val\"))\n",
        "#     if os.path.exists(img):\n",
        "#       print(img)\n",
        "#       shutil.copyfile(img, img.replace(\"train\",\"val\"))\n",
        "\n"
      ]
    },
    {
      "cell_type": "code",
      "execution_count": null,
      "metadata": {
        "colab": {
          "base_uri": "https://localhost:8080/"
        },
        "id": "r6ShwoVjCzWE",
        "outputId": "b8c56d15-f787-4abd-b5ac-659343b8a951"
      },
      "outputs": [
        {
          "output_type": "stream",
          "name": "stdout",
          "text": [
            "/content/yolov5\n"
          ]
        }
      ],
      "source": [
        "%cd yolov5\n"
      ]
    },
    {
      "cell_type": "code",
      "execution_count": null,
      "metadata": {
        "colab": {
          "background_save": true,
          "base_uri": "https://localhost:8080/"
        },
        "id": "Bh6bTdaMYSwi",
        "outputId": "cc044d7f-1206-4322-80aa-cb9dd46a804e"
      },
      "outputs": [
        {
          "name": "stdout",
          "output_type": "stream",
          "text": [
            "\u001b[34m\u001b[1mtrain: \u001b[0mweights=last.pt, cfg=, data=/content/drive/MyDrive/TT100K/tt100K.yaml, hyp=data/hyps/hyp.scratch-low.yaml, epochs=10, batch_size=-1, imgsz=640, rect=False, resume=False, nosave=False, noval=False, noautoanchor=False, noplots=False, evolve=None, bucket=, cache=None, image_weights=False, device=, multi_scale=False, single_cls=False, optimizer=SGD, sync_bn=False, workers=8, project=runs/train, name=exp, exist_ok=False, quad=False, cos_lr=False, label_smoothing=0.0, patience=100, freeze=[0], save_period=-1, local_rank=-1, entity=None, upload_dataset=False, bbox_interval=-1, artifact_alias=latest\n",
            "\u001b[34m\u001b[1mgithub: \u001b[0mup to date with https://github.com/ultralytics/yolov5 ✅\n",
            "YOLOv5 🚀 v6.1-251-gc23a441 Python-3.7.13 torch-1.11.0+cu113 CUDA:0 (Tesla T4, 15110MiB)\n",
            "\n",
            "\u001b[34m\u001b[1mhyperparameters: \u001b[0mlr0=0.01, lrf=0.01, momentum=0.937, weight_decay=0.0005, warmup_epochs=3.0, warmup_momentum=0.8, warmup_bias_lr=0.1, box=0.05, cls=0.5, cls_pw=1.0, obj=1.0, obj_pw=1.0, iou_t=0.2, anchor_t=4.0, fl_gamma=0.0, hsv_h=0.015, hsv_s=0.7, hsv_v=0.4, degrees=0.0, translate=0.1, scale=0.5, shear=0.0, perspective=0.0, flipud=0.0, fliplr=0.5, mosaic=1.0, mixup=0.0, copy_paste=0.0\n",
            "\u001b[34m\u001b[1mWeights & Biases: \u001b[0mrun 'pip install wandb' to automatically track and visualize YOLOv5 🚀 runs (RECOMMENDED)\n",
            "\u001b[34m\u001b[1mTensorBoard: \u001b[0mStart with 'tensorboard --logdir runs/train', view at http://localhost:6006/\n",
            "Downloading https://ultralytics.com/assets/Arial.ttf to /root/.config/Ultralytics/Arial.ttf...\n",
            "100% 755k/755k [00:00<00:00, 21.5MB/s]\n",
            "\n",
            "                 from  n    params  module                                  arguments                     \n",
            "  0                -1  1      5280  models.common.Conv                      [3, 48, 6, 2, 2]              \n",
            "  1                -1  1     41664  models.common.Conv                      [48, 96, 3, 2]                \n",
            "  2                -1  2     65280  models.common.C3                        [96, 96, 2]                   \n",
            "  3                -1  1    166272  models.common.Conv                      [96, 192, 3, 2]               \n",
            "  4                -1  4    444672  models.common.C3                        [192, 192, 4]                 \n",
            "  5                -1  1    664320  models.common.Conv                      [192, 384, 3, 2]              \n",
            "  6                -1  6   2512896  models.common.C3                        [384, 384, 6]                 \n",
            "  7                -1  1   2655744  models.common.Conv                      [384, 768, 3, 2]              \n",
            "  8                -1  2   4134912  models.common.C3                        [768, 768, 2]                 \n",
            "  9                -1  1   1476864  models.common.SPPF                      [768, 768, 5]                 \n",
            " 10                -1  1    295680  models.common.Conv                      [768, 384, 1, 1]              \n",
            " 11                -1  1         0  torch.nn.modules.upsampling.Upsample    [None, 2, 'nearest']          \n",
            " 12           [-1, 6]  1         0  models.common.Concat                    [1]                           \n",
            " 13                -1  2   1182720  models.common.C3                        [768, 384, 2, False]          \n",
            " 14                -1  1     74112  models.common.Conv                      [384, 192, 1, 1]              \n",
            " 15                -1  1         0  torch.nn.modules.upsampling.Upsample    [None, 2, 'nearest']          \n",
            " 16           [-1, 4]  1         0  models.common.Concat                    [1]                           \n",
            " 17                -1  2    296448  models.common.C3                        [384, 192, 2, False]          \n",
            " 18                -1  1    332160  models.common.Conv                      [192, 192, 3, 2]              \n",
            " 19          [-1, 14]  1         0  models.common.Concat                    [1]                           \n",
            " 20                -1  2   1035264  models.common.C3                        [384, 384, 2, False]          \n",
            " 21                -1  1   1327872  models.common.Conv                      [384, 384, 3, 2]              \n",
            " 22          [-1, 10]  1         0  models.common.Concat                    [1]                           \n",
            " 23                -1  2   4134912  models.common.C3                        [768, 768, 2, False]          \n",
            " 24      [17, 20, 23]  1    202050  models.yolo.Detect                      [45, [[10, 13, 16, 30, 33, 23], [30, 61, 62, 45, 59, 119], [116, 90, 156, 198, 373, 326]], [192, 384, 768]]\n",
            "Model summary: 369 layers, 21049122 parameters, 21049122 gradients\n",
            "\n",
            "Transferred 481/481 items from last.pt\n",
            "\u001b[34m\u001b[1mAMP: \u001b[0mchecks passed ✅\n",
            "\u001b[34m\u001b[1mAutoBatch: \u001b[0mComputing optimal batch size for --imgsz 640\n",
            "\u001b[34m\u001b[1mAutoBatch: \u001b[0mCUDA:0 (Tesla T4) 14.76G total, 0.18G reserved, 0.16G allocated, 14.42G free\n",
            "      Params      GFLOPs  GPU_mem (GB)  forward (ms) backward (ms)                   input                  output\n",
            "    21049122           0         0.659         47.33         169.6        (1, 3, 640, 640)                    list\n",
            "    21049122           0         1.040          42.8         55.63        (2, 3, 640, 640)                    list\n",
            "    21049122           0         1.929         40.16         70.67        (4, 3, 640, 640)                    list\n",
            "    21049122           0         3.410         59.44         123.8        (8, 3, 640, 640)                    list\n",
            "    21049122           0         6.977         114.9         245.2       (16, 3, 640, 640)                    list\n",
            "\u001b[34m\u001b[1mAutoBatch: \u001b[0mUsing batch-size 30 for CUDA:0 12.80G/14.76G (87%) ✅\n",
            "Scaled weight_decay = 0.00046875\n",
            "\u001b[34m\u001b[1moptimizer:\u001b[0m SGD with parameter groups 79 weight (no decay), 82 weight, 82 bias\n",
            "\u001b[34m\u001b[1malbumentations: \u001b[0mversion 1.0.3 required by YOLOv5, but version 0.1.12 is currently installed\n",
            "\u001b[34m\u001b[1mtrain: \u001b[0mScanning '/content/yolov5/data/TT100K/train/labels' images and labels...5453 found, 652 missing, 0 empty, 0 corrupt: 100% 6105/6105 [00:16<00:00, 368.47it/s]\n",
            "\u001b[34m\u001b[1mtrain: \u001b[0mNew cache created: /content/yolov5/data/TT100K/train/labels.cache\n",
            "\u001b[34m\u001b[1mval: \u001b[0mScanning '/content/yolov5/data/TT100K/val/labels' images and labels...650 found, 0 missing, 0 empty, 0 corrupt: 100% 650/650 [00:01<00:00, 448.25it/s]\n",
            "\u001b[34m\u001b[1mval: \u001b[0mNew cache created: /content/yolov5/data/TT100K/val/labels.cache\n",
            "Plotting labels to runs/train/exp/labels.jpg... \n",
            "\n",
            "\u001b[34m\u001b[1mAutoAnchor: \u001b[0m3.28 anchors/target, 0.999 Best Possible Recall (BPR). Current anchors are a good fit to dataset ✅\n",
            "Image sizes 640 train, 640 val\n",
            "Using 2 dataloader workers\n",
            "Logging results to \u001b[1mruns/train/exp\u001b[0m\n",
            "Starting training for 10 epochs...\n",
            "\n",
            "     Epoch   gpu_mem       box       obj       cls    labels  img_size\n",
            "       0/9     11.7G   0.02772  0.005122   0.03755        24       640: 100% 204/204 [23:10<00:00,  6.82s/it]\n",
            "               Class     Images     Labels          P          R     mAP@.5 mAP@.5:.95: 100% 11/11 [00:55<00:00,  5.08s/it]\n",
            "                 all        650       2402      0.548      0.545      0.512      0.359\n",
            "\n",
            "     Epoch   gpu_mem       box       obj       cls    labels  img_size\n",
            "       1/9       14G   0.03185  0.005304   0.03952        38       640: 100% 204/204 [22:36<00:00,  6.65s/it]\n",
            "               Class     Images     Labels          P          R     mAP@.5 mAP@.5:.95: 100% 11/11 [00:55<00:00,  5.01s/it]\n",
            "                 all        650       2402      0.572      0.512      0.499      0.337\n",
            "\n",
            "     Epoch   gpu_mem       box       obj       cls    labels  img_size\n",
            "       2/9       14G   0.03533  0.005311   0.04067        38       640: 100% 204/204 [22:33<00:00,  6.64s/it]\n",
            "               Class     Images     Labels          P          R     mAP@.5 mAP@.5:.95: 100% 11/11 [00:55<00:00,  5.08s/it]\n",
            "                 all        650       2402      0.568      0.463      0.433      0.276\n",
            "\n",
            "     Epoch   gpu_mem       box       obj       cls    labels  img_size\n",
            "       3/9       14G    0.0384  0.005578   0.04286        48       640: 100% 204/204 [22:29<00:00,  6.61s/it]\n",
            "               Class     Images     Labels          P          R     mAP@.5 mAP@.5:.95: 100% 11/11 [00:54<00:00,  4.99s/it]\n",
            "                 all        650       2402       0.56      0.458      0.451      0.291\n",
            "\n",
            "     Epoch   gpu_mem       box       obj       cls    labels  img_size\n",
            "       4/9       14G   0.03739  0.005664   0.04331        40       640: 100% 204/204 [22:28<00:00,  6.61s/it]\n",
            "               Class     Images     Labels          P          R     mAP@.5 mAP@.5:.95: 100% 11/11 [00:55<00:00,  5.09s/it]\n",
            "                 all        650       2402      0.472      0.385      0.355      0.232\n",
            "\n",
            "     Epoch   gpu_mem       box       obj       cls    labels  img_size\n",
            "       5/9       14G   0.03694  0.005685   0.04284        30       640: 100% 204/204 [22:29<00:00,  6.61s/it]\n",
            "               Class     Images     Labels          P          R     mAP@.5 mAP@.5:.95: 100% 11/11 [00:55<00:00,  5.02s/it]\n",
            "                 all        650       2402      0.543      0.469       0.46      0.312\n",
            "\n",
            "     Epoch   gpu_mem       box       obj       cls    labels  img_size\n",
            "       6/9       14G   0.03447  0.005591   0.04051        22       640: 100% 204/204 [22:27<00:00,  6.61s/it]\n",
            "               Class     Images     Labels          P          R     mAP@.5 mAP@.5:.95: 100% 11/11 [00:56<00:00,  5.11s/it]\n",
            "                 all        650       2402      0.555      0.492      0.479      0.326\n",
            "\n",
            "     Epoch   gpu_mem       box       obj       cls    labels  img_size\n",
            "       7/9       14G   0.03273  0.005443   0.03751        40       640: 100% 204/204 [22:31<00:00,  6.63s/it]\n",
            "               Class     Images     Labels          P          R     mAP@.5 mAP@.5:.95: 100% 11/11 [00:54<00:00,  4.91s/it]\n",
            "                 all        650       2402      0.538      0.541      0.533      0.372\n",
            "\n",
            "     Epoch   gpu_mem       box       obj       cls    labels  img_size\n",
            "       8/9       14G   0.03044  0.005252   0.03565        37       640: 100% 204/204 [22:30<00:00,  6.62s/it]\n",
            "               Class     Images     Labels          P          R     mAP@.5 mAP@.5:.95: 100% 11/11 [00:54<00:00,  4.94s/it]\n",
            "                 all        650       2402      0.601      0.548      0.558      0.401\n",
            "\n",
            "     Epoch   gpu_mem       box       obj       cls    labels  img_size\n",
            "       9/9       14G   0.02888  0.005179   0.03388        47       640: 100% 204/204 [22:30<00:00,  6.62s/it]\n",
            "               Class     Images     Labels          P          R     mAP@.5 mAP@.5:.95: 100% 11/11 [00:55<00:00,  5.03s/it]\n",
            "                 all        650       2402      0.557      0.566      0.557      0.402\n",
            "\n",
            "10 epochs completed in 3.923 hours.\n",
            "Optimizer stripped from last.pt, 42.6MB\n",
            "Optimizer stripped from best.pt, 42.6MB\n",
            "\n",
            "Validating best.pt...\n",
            "Fusing layers... \n",
            "Model summary: 290 layers, 21030738 parameters, 0 gradients\n",
            "               Class     Images     Labels          P          R     mAP@.5 mAP@.5:.95: 100% 11/11 [00:43<00:00,  4.00s/it]\n",
            "                 all        650       2402      0.555      0.567      0.557      0.403\n",
            "                  pn        650        310        0.8      0.877      0.903      0.611\n",
            "                 pne        650        230       0.92      0.913      0.923       0.62\n",
            "                  i5        650        166      0.789      0.958      0.947      0.608\n",
            "                 p11        650        165      0.689      0.715      0.749        0.5\n",
            "                pl40        650        124      0.355      0.645      0.462      0.338\n",
            "                  po        650        104      0.483      0.644      0.574      0.399\n",
            "                pl50        650        130      0.395      0.457      0.396      0.271\n",
            "                  io        650        101      0.714      0.752      0.788       0.55\n",
            "                pl80        650         79      0.599      0.823        0.7      0.538\n",
            "                pl60        650         51      0.308      0.588      0.438      0.358\n",
            "                 p26        650        101      0.607      0.842      0.805       0.62\n",
            "                  i4        650         91      0.732      0.879       0.89      0.586\n",
            "               pl100        650         77      0.658      0.948      0.909      0.753\n",
            "                pl30        650         50      0.471      0.499      0.427      0.313\n",
            "                il60        650         69      0.559      0.855      0.765        0.6\n",
            "                  i2        650         66      0.629      0.818      0.792      0.543\n",
            "                 pl5        650         20      0.528        0.9      0.822       0.54\n",
            "                 w57        650         28      0.469       0.75       0.66      0.443\n",
            "                  p5        650         19      0.527      0.737      0.783      0.525\n",
            "                 p10        650         35      0.448      0.371      0.443       0.36\n",
            "               pl120        650         42      0.581      0.929      0.873      0.706\n",
            "                il80        650         47      0.402      0.787      0.549      0.441\n",
            "                  ip        650         22      0.685       0.99      0.946      0.484\n",
            "                 p23        650         13      0.349      0.538      0.356      0.289\n",
            "                pr40        650          9       0.68          1      0.995      0.865\n",
            "               ph4.5        650         15      0.569        0.8      0.615      0.518\n",
            "                 w59        650         10       0.38        0.9      0.816      0.573\n",
            "                  p3        650         32      0.649      0.688      0.734      0.575\n",
            "                 w55        650          8       0.21       0.25      0.191      0.147\n",
            "                pm20        650          8      0.411       0.25      0.198      0.166\n",
            "                 p12        650         14          1          0      0.168      0.131\n",
            "                  pg        650         13      0.784      0.839      0.846      0.483\n",
            "                pl70        650         23          1          0      0.248      0.201\n",
            "                pm55        650          8       0.31      0.125      0.237      0.182\n",
            "                pl20        650         11          1          0     0.0638     0.0507\n",
            "               il100        650         28      0.674      0.857      0.883      0.667\n",
            "                 w13        650          7      0.378      0.352      0.348      0.228\n",
            "                 p19        650          9      0.454      0.648      0.368      0.294\n",
            "                 p27        650         16          1          0      0.222      0.194\n",
            "                 ph4        650         13      0.203     0.0784      0.356      0.266\n",
            "                pm30        650          6          0          0     0.0998     0.0698\n",
            "                  wo        650          7      0.138      0.143      0.321       0.23\n",
            "                 ph5        650          7          0          0     0.0826     0.0598\n",
            "                 w32        650          8      0.454      0.375      0.299      0.168\n",
            "                  p6        650         10          1          0     0.0649      0.051\n",
            "Results saved to \u001b[1mruns/train/exp\u001b[0m\n"
          ]
        }
      ],
      "source": [
        "!python train.py --weights last.pt --data /content/drive/MyDrive/TT100K/tt100K.yaml --epochs 10 --batch-size -1"
      ]
    },
    {
      "cell_type": "code",
      "execution_count": null,
      "metadata": {
        "colab": {
          "background_save": true
        },
        "id": "ZQIeYh6b8z_V",
        "outputId": "97b638c4-0a2d-46dc-ea26-f014666d49ea"
      },
      "outputs": [
        {
          "name": "stdout",
          "output_type": "stream",
          "text": [
            "  adding: content/yolov5/runs/ (stored 0%)\n",
            "  adding: content/yolov5/runs/train/ (stored 0%)\n",
            "  adding: content/yolov5/runs/train/exp/ (stored 0%)\n",
            "  adding: content/yolov5/runs/train/exp/P_curve.png (deflated 7%)\n",
            "  adding: content/yolov5/runs/train/exp/results.csv (deflated 80%)\n",
            "  adding: content/yolov5/runs/train/exp/hyp.yaml (deflated 45%)\n",
            "  adding: content/yolov5/runs/train/exp/labels.jpg (deflated 24%)\n",
            "  adding: content/yolov5/runs/train/exp/val_batch2_labels.jpg (deflated 8%)\n",
            "  adding: content/yolov5/runs/train/exp/F1_curve.png (deflated 8%)\n",
            "  adding: content/yolov5/runs/train/exp/R_curve.png (deflated 8%)\n",
            "  adding: content/yolov5/runs/train/exp/train_batch2.jpg (deflated 1%)\n",
            "  adding: content/yolov5/runs/train/exp/labels_correlogram.jpg (deflated 19%)\n",
            "  adding: content/yolov5/runs/train/exp/events.out.tfevents.1655109586.11c1997a4370.7451.0 (deflated 19%)\n",
            "  adding: content/yolov5/runs/train/exp/val_batch2_pred.jpg (deflated 8%)\n",
            "  adding: content/yolov5/runs/train/exp/val_batch0_pred.jpg (deflated 8%)\n",
            "  adding: content/yolov5/runs/train/exp/train_batch0.jpg (deflated 1%)\n",
            "  adding: content/yolov5/runs/train/exp/val_batch1_pred.jpg (deflated 8%)\n",
            "  adding: content/yolov5/runs/train/exp/val_batch0_labels.jpg (deflated 8%)\n",
            "  adding: content/yolov5/runs/train/exp/results.png (deflated 7%)\n",
            "  adding: content/yolov5/runs/train/exp/val_batch1_labels.jpg (deflated 8%)\n",
            "  adding: content/yolov5/runs/train/exp/train_batch1.jpg (deflated 1%)\n",
            "  adding: content/yolov5/runs/train/exp/weights/ (stored 0%)\n",
            "  adding: content/yolov5/runs/train/exp/PR_curve.png (deflated 7%)\n",
            "  adding: content/yolov5/runs/train/exp/opt.yaml (deflated 42%)\n",
            "  adding: content/yolov5/runs/train/exp/confusion_matrix.png (deflated 21%)\n",
            "  adding: content/yolov5/last.pt (deflated 8%)\n",
            "  adding: content/yolov5/best.pt (deflated 8%)\n"
          ]
        },
        {
          "data": {
            "application/vnd.google.colaboratory.intrinsic+json": {
              "type": "string"
            },
            "text/plain": [
              "'/content/drive/MyDrive/TT100K/runs_1655123840.616361.zip'"
            ]
          },
          "execution_count": null,
          "metadata": {},
          "output_type": "execute_result"
        }
      ],
      "source": [
        "!zip -r /content/yolov5/runs.zip /content/yolov5/runs\n",
        "!zip -r /content/yolov5/runs.zip /content/yolov5/last.pt\n",
        "!zip -r /content/yolov5/runs.zip /content/yolov5/best.pt\n",
        "from google.colab import files\n",
        "import os\n",
        "from datetime import datetime\n",
        "newfile=\"/content/yolov5/runs_\"+str(datetime.now().timestamp())+\".zip\"\n",
        "os.rename(\"/content/yolov5/runs.zip\",newfile)\n",
        "shutil.copy(newfile,\"/content/drive/MyDrive/TT100K\")"
      ]
    },
    {
      "cell_type": "code",
      "execution_count": null,
      "metadata": {
        "id": "3GskwGQcP5m5",
        "colab": {
          "base_uri": "https://localhost:8080/"
        },
        "outputId": "7e48de55-bf6a-4119-b1e3-fd21dca17f27"
      },
      "outputs": [
        {
          "output_type": "stream",
          "name": "stdout",
          "text": [
            "\u001b[34m\u001b[1mtrain: \u001b[0mweights=last.pt, cfg=, data=/content/drive/MyDrive/TT100K/tt100K.yaml, hyp=data/hyps/hyp.scratch-low.yaml, epochs=10, batch_size=-1, imgsz=640, rect=False, resume=False, nosave=False, noval=False, noautoanchor=False, noplots=False, evolve=None, bucket=, cache=None, image_weights=False, device=, multi_scale=False, single_cls=False, optimizer=SGD, sync_bn=False, workers=8, project=runs/train, name=exp, exist_ok=False, quad=False, cos_lr=False, label_smoothing=0.0, patience=100, freeze=[0], save_period=-1, local_rank=-1, entity=None, upload_dataset=False, bbox_interval=-1, artifact_alias=latest\n",
            "remote: Enumerating objects: 12, done.\u001b[K\n",
            "remote: Counting objects: 100% (12/12), done.\u001b[K\n",
            "remote: Compressing objects: 100% (7/7), done.\u001b[K\n",
            "remote: Total 12 (delta 5), reused 10 (delta 5), pack-reused 0\u001b[K\n",
            "Unpacking objects: 100% (12/12), done.\n",
            "From https://github.com/ultralytics/yolov5\n",
            "   c23a441..6a67594  master            -> origin/master\n",
            " * [new branch]      test/seeds        -> origin/test/seeds\n",
            " * [new branch]      update/hub_errors -> origin/update/hub_errors\n",
            "\u001b[34m\u001b[1mgithub: \u001b[0m⚠️ YOLOv5 is out of date by 1 commit. Use `git pull` or `git clone https://github.com/ultralytics/yolov5` to update.\n",
            "YOLOv5 🚀 v6.1-251-gc23a441 Python-3.7.13 torch-1.11.0+cu113 CUDA:0 (Tesla T4, 15110MiB)\n",
            "\n",
            "\u001b[34m\u001b[1mhyperparameters: \u001b[0mlr0=0.01, lrf=0.01, momentum=0.937, weight_decay=0.0005, warmup_epochs=3.0, warmup_momentum=0.8, warmup_bias_lr=0.1, box=0.05, cls=0.5, cls_pw=1.0, obj=1.0, obj_pw=1.0, iou_t=0.2, anchor_t=4.0, fl_gamma=0.0, hsv_h=0.015, hsv_s=0.7, hsv_v=0.4, degrees=0.0, translate=0.1, scale=0.5, shear=0.0, perspective=0.0, flipud=0.0, fliplr=0.5, mosaic=1.0, mixup=0.0, copy_paste=0.0\n",
            "\u001b[34m\u001b[1mWeights & Biases: \u001b[0mrun 'pip install wandb' to automatically track and visualize YOLOv5 🚀 runs (RECOMMENDED)\n",
            "\u001b[34m\u001b[1mTensorBoard: \u001b[0mStart with 'tensorboard --logdir runs/train', view at http://localhost:6006/\n",
            "\n",
            "                 from  n    params  module                                  arguments                     \n",
            "  0                -1  1      5280  models.common.Conv                      [3, 48, 6, 2, 2]              \n",
            "  1                -1  1     41664  models.common.Conv                      [48, 96, 3, 2]                \n",
            "  2                -1  2     65280  models.common.C3                        [96, 96, 2]                   \n",
            "  3                -1  1    166272  models.common.Conv                      [96, 192, 3, 2]               \n",
            "  4                -1  4    444672  models.common.C3                        [192, 192, 4]                 \n",
            "  5                -1  1    664320  models.common.Conv                      [192, 384, 3, 2]              \n",
            "  6                -1  6   2512896  models.common.C3                        [384, 384, 6]                 \n",
            "  7                -1  1   2655744  models.common.Conv                      [384, 768, 3, 2]              \n",
            "  8                -1  2   4134912  models.common.C3                        [768, 768, 2]                 \n",
            "  9                -1  1   1476864  models.common.SPPF                      [768, 768, 5]                 \n",
            " 10                -1  1    295680  models.common.Conv                      [768, 384, 1, 1]              \n",
            " 11                -1  1         0  torch.nn.modules.upsampling.Upsample    [None, 2, 'nearest']          \n",
            " 12           [-1, 6]  1         0  models.common.Concat                    [1]                           \n",
            " 13                -1  2   1182720  models.common.C3                        [768, 384, 2, False]          \n",
            " 14                -1  1     74112  models.common.Conv                      [384, 192, 1, 1]              \n",
            " 15                -1  1         0  torch.nn.modules.upsampling.Upsample    [None, 2, 'nearest']          \n",
            " 16           [-1, 4]  1         0  models.common.Concat                    [1]                           \n",
            " 17                -1  2    296448  models.common.C3                        [384, 192, 2, False]          \n",
            " 18                -1  1    332160  models.common.Conv                      [192, 192, 3, 2]              \n",
            " 19          [-1, 14]  1         0  models.common.Concat                    [1]                           \n",
            " 20                -1  2   1035264  models.common.C3                        [384, 384, 2, False]          \n",
            " 21                -1  1   1327872  models.common.Conv                      [384, 384, 3, 2]              \n",
            " 22          [-1, 10]  1         0  models.common.Concat                    [1]                           \n",
            " 23                -1  2   4134912  models.common.C3                        [768, 768, 2, False]          \n",
            " 24      [17, 20, 23]  1    202050  models.yolo.Detect                      [45, [[10, 13, 16, 30, 33, 23], [30, 61, 62, 45, 59, 119], [116, 90, 156, 198, 373, 326]], [192, 384, 768]]\n",
            "Model summary: 369 layers, 21049122 parameters, 21049122 gradients\n",
            "\n",
            "Transferred 481/481 items from last.pt\n",
            "\u001b[34m\u001b[1mAMP: \u001b[0mchecks passed ✅\n",
            "\u001b[34m\u001b[1mAutoBatch: \u001b[0mComputing optimal batch size for --imgsz 640\n",
            "\u001b[34m\u001b[1mAutoBatch: \u001b[0mCUDA:0 (Tesla T4) 14.76G total, 0.18G reserved, 0.16G allocated, 14.42G free\n",
            "      Params      GFLOPs  GPU_mem (GB)  forward (ms) backward (ms)                   input                  output\n",
            "    21049122           0         0.659         48.85         164.3        (1, 3, 640, 640)                    list\n",
            "    21049122           0         1.040         41.92         58.73        (2, 3, 640, 640)                    list\n",
            "    21049122           0         1.929         41.64         77.22        (4, 3, 640, 640)                    list\n",
            "    21049122           0         3.410          59.9           128        (8, 3, 640, 640)                    list\n",
            "    21049122           0         6.977           118         252.5       (16, 3, 640, 640)                    list\n",
            "\u001b[34m\u001b[1mAutoBatch: \u001b[0mUsing batch-size 30 for CUDA:0 12.80G/14.76G (87%) ✅\n",
            "Scaled weight_decay = 0.00046875\n",
            "\u001b[34m\u001b[1moptimizer:\u001b[0m SGD with parameter groups 79 weight (no decay), 82 weight, 82 bias\n",
            "\u001b[34m\u001b[1malbumentations: \u001b[0mversion 1.0.3 required by YOLOv5, but version 0.1.12 is currently installed\n",
            "\u001b[34m\u001b[1mtrain: \u001b[0mScanning '/content/yolov5/data/TT100K/train/labels.cache' images and labels... 5453 found, 652 missing, 0 empty, 0 corrupt: 100% 6105/6105 [00:00<?, ?it/s]\n",
            "\u001b[34m\u001b[1mval: \u001b[0mScanning '/content/yolov5/data/TT100K/val/labels.cache' images and labels... 650 found, 0 missing, 0 empty, 0 corrupt: 100% 650/650 [00:00<?, ?it/s]\n",
            "Plotting labels to runs/train/exp2/labels.jpg... \n",
            "\n",
            "\u001b[34m\u001b[1mAutoAnchor: \u001b[0m3.28 anchors/target, 0.999 Best Possible Recall (BPR). Current anchors are a good fit to dataset ✅\n",
            "Image sizes 640 train, 640 val\n",
            "Using 2 dataloader workers\n",
            "Logging results to \u001b[1mruns/train/exp2\u001b[0m\n",
            "Starting training for 10 epochs...\n",
            "\n",
            "     Epoch   gpu_mem       box       obj       cls    labels  img_size\n",
            "       0/9     11.7G   0.02751  0.005065   0.03238        24       640: 100% 204/204 [23:03<00:00,  6.78s/it]\n",
            "               Class     Images     Labels          P          R     mAP@.5 mAP@.5:.95: 100% 11/11 [00:53<00:00,  4.86s/it]\n",
            "                 all        650       2402      0.581       0.56       0.56      0.399\n",
            "\n",
            "     Epoch   gpu_mem       box       obj       cls    labels  img_size\n",
            "       1/9       14G   0.03193  0.005196   0.03405        38       640: 100% 204/204 [22:32<00:00,  6.63s/it]\n",
            "               Class     Images     Labels          P          R     mAP@.5 mAP@.5:.95: 100% 11/11 [00:54<00:00,  5.00s/it]\n",
            "                 all        650       2402      0.559      0.534      0.548      0.372\n",
            "\n",
            "     Epoch   gpu_mem       box       obj       cls    labels  img_size\n",
            "       2/9       14G     0.036  0.005226   0.03581        38       640: 100% 204/204 [22:31<00:00,  6.62s/it]\n",
            "               Class     Images     Labels          P          R     mAP@.5 mAP@.5:.95: 100% 11/11 [00:55<00:00,  5.04s/it]\n",
            "                 all        650       2402      0.561      0.519      0.526      0.348\n",
            "\n",
            "     Epoch   gpu_mem       box       obj       cls    labels  img_size\n",
            "       3/9       14G   0.03843  0.005411   0.03718        48       640: 100% 204/204 [22:31<00:00,  6.62s/it]\n",
            "               Class     Images     Labels          P          R     mAP@.5 mAP@.5:.95: 100% 11/11 [00:57<00:00,  5.20s/it]\n",
            "                 all        650       2402      0.529      0.494      0.504      0.341\n",
            "\n",
            "     Epoch   gpu_mem       box       obj       cls    labels  img_size\n",
            "       4/9       14G   0.03698   0.00547   0.03735        40       640: 100% 204/204 [22:29<00:00,  6.61s/it]\n",
            "               Class     Images     Labels          P          R     mAP@.5 mAP@.5:.95: 100% 11/11 [00:56<00:00,  5.15s/it]\n",
            "                 all        650       2402      0.529       0.55      0.528       0.36\n",
            "\n",
            "     Epoch   gpu_mem       box       obj       cls    labels  img_size\n",
            "       5/9       14G   0.03682  0.005441   0.03643        30       640: 100% 204/204 [22:33<00:00,  6.64s/it]\n",
            "               Class     Images     Labels          P          R     mAP@.5 mAP@.5:.95: 100% 11/11 [00:57<00:00,  5.18s/it]\n",
            "                 all        650       2402      0.561      0.508      0.474      0.323\n",
            "\n",
            "     Epoch   gpu_mem       box       obj       cls    labels  img_size\n",
            "       6/9       14G   0.03448  0.005527   0.03566        22       640: 100% 204/204 [22:35<00:00,  6.64s/it]\n",
            "               Class     Images     Labels          P          R     mAP@.5 mAP@.5:.95: 100% 11/11 [00:53<00:00,  4.87s/it]\n",
            "                 all        650       2402      0.629      0.501      0.519      0.359\n",
            "\n",
            "     Epoch   gpu_mem       box       obj       cls    labels  img_size\n",
            "       7/9       14G   0.03258  0.005382   0.03254        40       640: 100% 204/204 [22:39<00:00,  6.67s/it]\n",
            "               Class     Images     Labels          P          R     mAP@.5 mAP@.5:.95: 100% 11/11 [00:55<00:00,  5.00s/it]\n",
            "                 all        650       2402      0.569      0.567      0.562      0.398\n",
            "\n",
            "     Epoch   gpu_mem       box       obj       cls    labels  img_size\n",
            "       8/9       14G   0.03026  0.005231   0.03126        37       640: 100% 204/204 [22:45<00:00,  6.69s/it]\n",
            "               Class     Images     Labels          P          R     mAP@.5 mAP@.5:.95: 100% 11/11 [00:54<00:00,  4.97s/it]\n",
            "                 all        650       2402      0.583      0.563      0.579      0.423\n",
            "\n",
            "     Epoch   gpu_mem       box       obj       cls    labels  img_size\n",
            "       9/9       14G    0.0293   0.00512   0.02962        47       640: 100% 204/204 [22:32<00:00,  6.63s/it]\n",
            "               Class     Images     Labels          P          R     mAP@.5 mAP@.5:.95: 100% 11/11 [00:55<00:00,  5.06s/it]\n",
            "                 all        650       2402      0.572      0.584      0.606      0.444\n",
            "\n",
            "10 epochs completed in 3.931 hours.\n",
            "Optimizer stripped from last.pt, 42.6MB\n",
            "Optimizer stripped from best.pt, 42.6MB\n",
            "\n",
            "Validating best.pt...\n",
            "Fusing layers... \n",
            "Model summary: 290 layers, 21030738 parameters, 0 gradients\n",
            "               Class     Images     Labels          P          R     mAP@.5 mAP@.5:.95: 100% 11/11 [00:43<00:00,  3.97s/it]\n",
            "                 all        650       2402      0.574      0.586      0.606      0.444\n",
            "                  pn        650        310      0.785      0.884      0.909      0.619\n",
            "                 pne        650        230      0.924      0.913      0.927      0.629\n",
            "                  i5        650        166      0.869      0.958      0.949      0.615\n",
            "                 p11        650        165      0.676      0.739      0.756      0.513\n",
            "                pl40        650        124      0.456      0.669       0.58       0.44\n",
            "                  po        650        104      0.601      0.567      0.557       0.36\n",
            "                pl50        650        130      0.408      0.515      0.476      0.336\n",
            "                  io        650        101      0.613      0.802      0.791      0.555\n",
            "                pl80        650         79      0.593      0.722      0.641      0.504\n",
            "                pl60        650         51      0.374      0.647       0.54      0.438\n",
            "                 p26        650        101      0.592      0.822      0.833      0.621\n",
            "                  i4        650         91      0.756      0.868        0.9      0.631\n",
            "               pl100        650         77      0.711      0.961      0.945      0.796\n",
            "                pl30        650         50      0.508       0.56      0.516      0.404\n",
            "                il60        650         69      0.717      0.884      0.875      0.666\n",
            "                  i2        650         66      0.643      0.763      0.791      0.522\n",
            "                 pl5        650         20      0.466      0.916      0.833      0.583\n",
            "                 w57        650         28      0.574      0.786      0.719      0.507\n",
            "                  p5        650         19       0.74      0.748      0.797      0.621\n",
            "                 p10        650         35      0.357      0.429      0.496      0.382\n",
            "               pl120        650         42      0.743      0.929      0.936      0.712\n",
            "                il80        650         47      0.542      0.936      0.828      0.655\n",
            "                  ip        650         22      0.531      0.864      0.854      0.444\n",
            "                 p23        650         13      0.359      0.538      0.321      0.246\n",
            "                pr40        650          9      0.643          1      0.973       0.84\n",
            "               ph4.5        650         15      0.481      0.733      0.629      0.474\n",
            "                 w59        650         10      0.459        0.8       0.82      0.572\n",
            "                  p3        650         32      0.723      0.656      0.744      0.581\n",
            "                 w55        650          8      0.223      0.625       0.41      0.323\n",
            "                pm20        650          8      0.216       0.25      0.365      0.313\n",
            "                 p12        650         14          1          0      0.319      0.248\n",
            "                  pg        650         13      0.851      0.846      0.828      0.519\n",
            "                pl70        650         23          1          0      0.209       0.16\n",
            "                pm55        650          8       0.63      0.375      0.509       0.39\n",
            "                pl20        650         11          1          0     0.0715      0.051\n",
            "               il100        650         28      0.704      0.857      0.884      0.685\n",
            "                 w13        650          7      0.244      0.143      0.318      0.209\n",
            "                 p19        650          9      0.416      0.556      0.555      0.443\n",
            "                 p27        650         16      0.766      0.188      0.496       0.41\n",
            "                 ph4        650         13       0.23      0.308      0.293      0.207\n",
            "                pm30        650          6          0          0       0.17      0.119\n",
            "                  wo        650          7      0.211      0.143      0.325      0.253\n",
            "                 ph5        650          7          0          0      0.119     0.0815\n",
            "                 w32        650          8      0.494      0.489      0.381      0.232\n",
            "                  p6        650         10          1          0     0.0625     0.0491\n",
            "Results saved to \u001b[1mruns/train/exp2\u001b[0m\n"
          ]
        }
      ],
      "source": [
        "!python train.py --weights last.pt --data /content/drive/MyDrive/TT100K/tt100K.yaml --epochs 10 --batch-size -1"
      ]
    },
    {
      "cell_type": "code",
      "execution_count": null,
      "metadata": {
        "id": "pBpSEthaP5m7",
        "colab": {
          "base_uri": "https://localhost:8080/",
          "height": 348
        },
        "outputId": "d0758ced-db3c-4254-be09-f9f7998e010d"
      },
      "outputs": [
        {
          "output_type": "stream",
          "name": "stdout",
          "text": [
            "  adding: content/yolov5/runs/ (stored 0%)\n",
            "  adding: content/yolov5/runs/val/ (stored 0%)\n",
            "  adding: content/yolov5/runs/val/exp/ (stored 0%)\n",
            "  adding: content/yolov5/runs/val/exp/PR_curve.png (deflated 7%)\n",
            "  adding: content/yolov5/runs/val/exp/val_batch1_labels.jpg (deflated 8%)\n",
            "  adding: content/yolov5/runs/val/exp/val_batch2_pred.jpg (deflated 7%)\n",
            "  adding: content/yolov5/runs/val/exp/F1_curve.png (deflated 8%)\n",
            "  adding: content/yolov5/runs/val/exp/confusion_matrix.png (deflated 21%)\n",
            "  adding: content/yolov5/runs/val/exp/val_batch2_labels.jpg (deflated 7%)\n",
            "  adding: content/yolov5/runs/val/exp/val_batch1_pred.jpg (deflated 7%)\n",
            "  adding: content/yolov5/runs/val/exp/val_batch0_labels.jpg (deflated 8%)\n",
            "  adding: content/yolov5/runs/val/exp/P_curve.png (deflated 8%)\n",
            "  adding: content/yolov5/runs/val/exp/R_curve.png (deflated 8%)\n",
            "  adding: content/yolov5/runs/val/exp/val_batch0_pred.jpg (deflated 8%)\n",
            "\tzip warning: name not matched: /content/yolov5/last.pt\n",
            "\n",
            "zip error: Nothing to do! (try: zip -r /content/yolov5/runs.zip . -i /content/yolov5/last.pt)\n",
            "  adding: content/yolov5/best.pt (deflated 8%)\n"
          ]
        },
        {
          "output_type": "execute_result",
          "data": {
            "text/plain": [
              "'/content/drive/MyDrive/TT100K/runs_1655197273.848606.zip'"
            ],
            "application/vnd.google.colaboratory.intrinsic+json": {
              "type": "string"
            }
          },
          "metadata": {},
          "execution_count": 8
        }
      ],
      "source": [
        "!zip -r /content/yolov5/runs.zip /content/yolov5/runs\n",
        "!zip -r /content/yolov5/runs.zip /content/yolov5/last.pt\n",
        "!zip -r /content/yolov5/runs.zip /content/yolov5/best.pt\n",
        "from google.colab import files\n",
        "import os\n",
        "from datetime import datetime\n",
        "newfile=\"/content/yolov5/runs_\"+str(datetime.now().timestamp())+\".zip\"\n",
        "os.rename(\"/content/yolov5/runs.zip\",newfile)\n",
        "shutil.copy(newfile,\"/content/drive/MyDrive/TT100K\")"
      ]
    },
    {
      "cell_type": "code",
      "source": [
        "!python val.py --data /content/drive/MyDrive/TT100K/tt100K.yaml --weights best.pt --imgsz 640 --task test"
      ],
      "metadata": {
        "colab": {
          "base_uri": "https://localhost:8080/"
        },
        "id": "uWYt0VaGZwX5",
        "outputId": "0433e306-5c23-41b1-c223-ba58d207bca9"
      },
      "execution_count": null,
      "outputs": [
        {
          "output_type": "stream",
          "name": "stdout",
          "text": [
            "\u001b[34m\u001b[1mval: \u001b[0mdata=/content/drive/MyDrive/TT100K/tt100K.yaml, weights=['best.pt'], batch_size=32, imgsz=640, conf_thres=0.001, iou_thres=0.6, task=test, device=, workers=8, single_cls=False, augment=False, verbose=False, save_txt=False, save_hybrid=False, save_conf=False, save_json=False, project=runs/val, name=exp, exist_ok=False, half=False, dnn=False\n",
            "YOLOv5 🚀 v6.1-252-g6a67594 Python-3.7.13 torch-1.11.0+cu113 CUDA:0 (Tesla P100-PCIE-16GB, 16281MiB)\n",
            "\n",
            "Fusing layers... \n",
            "Model summary: 290 layers, 21030738 parameters, 0 gradients\n",
            "Downloading https://ultralytics.com/assets/Arial.ttf to /root/.config/Ultralytics/Arial.ttf...\n",
            "100% 755k/755k [00:00<00:00, 15.1MB/s]\n",
            "\u001b[34m\u001b[1mtest: \u001b[0mScanning '/content/yolov5/data/TT100K/test/labels' images and labels...3067 found, 4 missing, 0 empty, 0 corrupt: 100% 3071/3071 [00:05<00:00, 565.64it/s]\n",
            "\u001b[34m\u001b[1mtest: \u001b[0mNew cache created: /content/yolov5/data/TT100K/test/labels.cache\n",
            "               Class     Images     Labels          P          R     mAP@.5 mAP@.5:.95: 100% 96/96 [03:49<00:00,  2.39s/it]\n",
            "                 all       3071       7698      0.546      0.593      0.573      0.406\n",
            "                  pn       3071        965      0.773      0.893      0.895      0.607\n",
            "                 pne       3071        660      0.897      0.937      0.945       0.59\n",
            "                  i5       3071        504      0.754      0.935      0.895      0.592\n",
            "                 p11       3071        497      0.635       0.73      0.739      0.496\n",
            "                pl40       3071        445       0.47       0.67      0.593      0.434\n",
            "                  po       3071        389      0.584      0.563      0.572      0.376\n",
            "                pl50       3071        340      0.381      0.549      0.469      0.336\n",
            "                  io       3071        266       0.62      0.823       0.79      0.572\n",
            "                pl80       3071        274      0.487      0.724      0.622      0.469\n",
            "                pl60       3071        274      0.412      0.602      0.454      0.356\n",
            "                 p26       3071        241      0.591      0.851      0.777      0.569\n",
            "                  i4       3071        231      0.703      0.866      0.866      0.566\n",
            "               pl100       3071        216      0.737      0.875      0.875       0.71\n",
            "                pl30       3071        205      0.433      0.546      0.489       0.37\n",
            "                il60       3071        140      0.677      0.921      0.879      0.655\n",
            "                  i2       3071        142      0.558      0.725      0.703      0.462\n",
            "                 pl5       3071        203      0.591      0.788      0.759      0.516\n",
            "                 w57       3071        122      0.558      0.828      0.777        0.5\n",
            "                  p5       3071        118      0.706      0.814      0.807      0.607\n",
            "                 p10       3071         87      0.338      0.598      0.517      0.368\n",
            "               pl120       3071         87      0.662      0.828       0.83      0.663\n",
            "                il80       3071         96       0.51      0.833      0.644      0.503\n",
            "                  ip       3071        128      0.741      0.758      0.785      0.392\n",
            "                 p23       3071        103      0.602      0.786      0.738      0.571\n",
            "                pr40       3071         63      0.627      0.968      0.917      0.766\n",
            "               ph4.5       3071         60      0.548        0.8      0.692      0.544\n",
            "                 w59       3071         58      0.523      0.879      0.703      0.403\n",
            "                  p3       3071         58      0.783      0.483      0.601      0.443\n",
            "                 w55       3071         60      0.325      0.617      0.443      0.269\n",
            "                pm20       3071         49      0.354      0.314      0.312      0.237\n",
            "                 p12       3071         66      0.405     0.0152      0.171       0.13\n",
            "                  pg       3071         43       0.89      0.942      0.946      0.582\n",
            "                pl70       3071         44          1          0     0.0727     0.0566\n",
            "                pm55       3071         38      0.618      0.553      0.641      0.535\n",
            "                pl20       3071         56          0          0     0.0694     0.0513\n",
            "               il100       3071         39      0.655      0.821      0.779      0.617\n",
            "                 w13       3071         31      0.173      0.129      0.168     0.0953\n",
            "                 p19       3071         33      0.194      0.455      0.239      0.189\n",
            "                 p27       3071         47      0.976      0.128      0.448       0.35\n",
            "                 ph4       3071         37      0.201      0.297      0.151      0.115\n",
            "                pm30       3071         32     0.0866     0.0312      0.141      0.112\n",
            "                  wo       3071         38      0.289      0.211      0.224      0.121\n",
            "                 ph5       3071         40      0.111      0.125     0.0409     0.0285\n",
            "                 w32       3071         34       0.41      0.471      0.375      0.175\n",
            "                  p6       3071         39          1          0      0.245      0.178\n",
            "Speed: 0.2ms pre-process, 9.0ms inference, 1.6ms NMS per image at shape (32, 3, 640, 640)\n",
            "Results saved to \u001b[1mruns/val/exp\u001b[0m\n"
          ]
        }
      ]
    },
    {
      "cell_type": "code",
      "source": [
        "!python detect.py --weights best.pt --data /content/drive/MyDrive/TT100K/tt100K.yaml --source /content/10286.jpg"
      ],
      "metadata": {
        "id": "VRIGdZRncbhw",
        "colab": {
          "base_uri": "https://localhost:8080/"
        },
        "outputId": "2dcbca7c-fb94-4f5c-9220-b20310e07629"
      },
      "execution_count": null,
      "outputs": [
        {
          "output_type": "stream",
          "name": "stdout",
          "text": [
            "\u001b[34m\u001b[1mdetect: \u001b[0mweights=['best.pt'], source=/content/10286.jpg, data=/content/drive/MyDrive/TT100K/tt100K.yaml, imgsz=[640, 640], conf_thres=0.25, iou_thres=0.45, max_det=1000, device=, view_img=False, save_txt=False, save_conf=False, save_crop=False, nosave=False, classes=None, agnostic_nms=False, augment=False, visualize=False, update=False, project=runs/detect, name=exp, exist_ok=False, line_thickness=3, hide_labels=False, hide_conf=False, half=False, dnn=False\n",
            "YOLOv5 🚀 v6.1-253-g75bbaa8 Python-3.7.13 torch-1.11.0+cu113 CUDA:0 (Tesla P100-PCIE-16GB, 16281MiB)\n",
            "\n",
            "Fusing layers... \n",
            "Model summary: 290 layers, 21030738 parameters, 0 gradients\n",
            "image 1/1 /content/10286.jpg: 640x640 3 pl100s, 2 il60s, 1 p5, 2 il80s, Done. (0.014s)\n",
            "Speed: 0.7ms pre-process, 13.7ms inference, 1.3ms NMS per image at shape (1, 3, 640, 640)\n",
            "Results saved to \u001b[1mruns/detect/exp10\u001b[0m\n"
          ]
        }
      ]
    },
    {
      "cell_type": "code",
      "source": [
        "!python detect.py --weights best.pt --data /content/drive/MyDrive/TT100K/tt100K.yaml --source /content/2.jpg"
      ],
      "metadata": {
        "id": "UPfyVPgYYDGS"
      },
      "execution_count": null,
      "outputs": []
    }
  ],
  "metadata": {
    "accelerator": "GPU",
    "colab": {
      "collapsed_sections": [],
      "name": "YOLOv5-Custom-Training-TT100K.ipynb",
      "provenance": [],
      "include_colab_link": true
    },
    "kernelspec": {
      "display_name": "Python 3",
      "name": "python3"
    },
    "language_info": {
      "name": "python"
    }
  },
  "nbformat": 4,
  "nbformat_minor": 0
}